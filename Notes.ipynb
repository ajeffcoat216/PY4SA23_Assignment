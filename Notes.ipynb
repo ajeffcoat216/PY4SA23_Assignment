{
 "cells": [
  {
   "cell_type": "code",
   "execution_count": null,
   "id": "0a8ebdbc-659a-455f-a70c-d750ea937f46",
   "metadata": {},
   "outputs": [],
   "source": [
    "import numpy as np\n",
    "import pandas as pd\n",
    "import matplotlib.pyplot as plt\n",
    "ptrees = pd.read_csv(\"portland_park_trees.csv\", header=0)\n",
    "ulmus = ptrees[ptrees[\"Genus\"]==\"Ulmus\"]\n",
    "ulpu = ulmus[ulmus[\"Species\"]==\"ULPU\"]\n",
    "ulhy = ulmus[ulmus[\"Species\"]==\"ULHY\"]\n",
    "ulam = ulmus[ulmus[\"Species\"]==\"ULAM\"]\n",
    "ulal = ulmus[ulmus[\"Species\"]==\"ULAL\"]\n",
    "ul = ulmus[ulmus[\"Species\"]==\"UL\"]\n",
    "ulmi = ulmus[ulmus[\"Species\"]==\"ULMI\"]\n",
    "ulglca = ulmus[ulmus[\"Species\"]==\"ULGLCA\"]\n",
    "uldajm = ulmus[ulmus[\"Species\"]==\"ULDAJM\"]\n",
    "ulpa = ulmus[ulmus[\"Species\"]==\"ULPA\"]\n",
    "plt.rcParams['figure.figsize'] = [16, 10]\n",
    "fig1, axs = plt.subplots(3,3)\n",
    "axs[0,0].boxplot(ulpu.DBH)\n",
    "axs[0,0].set_title('ULPU')\n",
    "axs[0,1].boxplot(ulhy.DBH)\n",
    "axs[0,1].set_title('ULHY')\n",
    "axs[0,2].boxplot(ulam.DBH)\n",
    "axs[0,2].set_title('ULAM')\n",
    "axs[1,0].boxplot(ulal.DBH)\n",
    "axs[1,0].set_title('ULAL')\n",
    "axs[1,1].boxplot(ul.DBH)\n",
    "axs[1,1].set_title('UL')\n",
    "axs[1,2].boxplot(ulmi.DBH)\n",
    "axs[1,2].set_title('ULMI')\n",
    "axs[2,0].boxplot(ulglca.DBH)\n",
    "axs[2,0].set_title('ULGLCA')\n",
    "axs[2,1].boxplot(uldajm.DBH)\n",
    "axs[2,1].set_title('ULDAJM')\n",
    "axs[2,2].boxplot(ulpa.DBH)\n",
    "axs[2,2].set_title('ULPA')"
   ]
  },
  {
   "cell_type": "code",
   "execution_count": null,
   "id": "46204f2e-799c-4e0a-b45a-5b43f698cfcb",
   "metadata": {},
   "outputs": [],
   "source": [
    "ulmus.plot(kind='box')"
   ]
  },
  {
   "cell_type": "code",
   "execution_count": null,
   "id": "56616825-a89e-4005-93c7-631e9c6fe505",
   "metadata": {},
   "outputs": [],
   "source": [
    "fig1.suptitle('Boxplots of DBH by species of the genus Ulmus', fontsize=20, fontweight='bold')\n",
    "plt.show(fig1)"
   ]
  },
  {
   "cell_type": "code",
   "execution_count": null,
   "id": "85210a79-fad0-4d4e-ba4a-026ec6ba15ee",
   "metadata": {},
   "outputs": [],
   "source": [
    "ulspdbh = sns.boxplot( x=ulmus['Species'], y=ulmus['DBH'])\n",
    "ulspdbh.set_xlabel('Species', fontsize= 14, fontweight='bold')\n",
    "ulspdbh.set_ylabel('DBH', fontsize= 14, fontweight='bold')\n",
    "ulspdbh.set_title('Series of boxplots showing the distribution of DBH by Species of the Ulmus genus', fontsize= 18, fontweight='bold');"
   ]
  },
  {
   "cell_type": "code",
   "execution_count": null,
   "id": "8b5c9e21-186a-4558-9660-754b605ac6cf",
   "metadata": {},
   "outputs": [],
   "source": [
    "Atrees.explore(column='MI_PRINX', legend=True, scheme=\"quantiles\")"
   ]
  },
  {
   "cell_type": "code",
   "execution_count": null,
   "id": "175ce03c-439a-4e57-a28e-f6d096904bf6",
   "metadata": {},
   "outputs": [],
   "source": [
    "Atrees.explore(column='NEW__ID', legend=True)"
   ]
  },
  {
   "cell_type": "markdown",
   "id": "bf01a7ce-a38e-41bb-80a5-69e6f3e97a45",
   "metadata": {},
   "source": [
    "Accent', 'Accent_r', 'Blues', 'Blues_r', 'BrBG', 'BrBG_r', 'BuGn', 'BuGn_r', 'BuPu', 'BuPu_r', 'CMRmap', 'CMRmap_r', 'Dark2', 'Dark2_r', 'GnBu', 'GnBu_r', 'Greens', 'Greens_r', 'Greys', 'Greys_r', 'OrRd', 'OrRd_r', 'Oranges', 'Oranges_r', 'PRGn', 'PRGn_r', 'Paired', 'Paired_r', 'Pastel1', 'Pastel1_r', 'Pastel2', 'Pastel2_r', 'PiYG', 'PiYG_r', 'PuBu', 'PuBuGn', 'PuBuGn_r', 'PuBu_r', 'PuOr', 'PuOr_r', 'PuRd', 'PuRd_r', 'Purples', 'Purples_r', 'RdBu', 'RdBu_r', 'RdGy', 'RdGy_r', 'RdPu', 'RdPu_r', 'RdYlBu', 'RdYlBu_r', 'RdYlGn', 'RdYlGn_r', 'Reds', 'Reds_r', 'Set1', 'Set1_r', 'Set2', 'Set2_r', 'Set3', 'Set3_r', 'Spectral', 'Spectral_r', 'Wistia', 'Wistia_r', 'YlGn', 'YlGnBu', 'YlGnBu_r', 'YlGn_r', 'YlOrBr', 'YlOrBr_r', 'YlOrRd', 'YlOrRd_r', 'afmhot', 'afmhot_r', 'autumn', 'autumn_r', 'binary', 'binary_r', 'bone', 'bone_r', 'brg', 'brg_r', 'bwr', 'bwr_r', 'cividis', 'cividis_r', 'cool', 'cool_r', 'coolwarm', 'coolwarm_r', 'copper', 'copper_r', 'cubehelix', 'cubehelix_r', 'flag', 'flag_r', 'gist_earth', 'gist_earth_r', 'gist_gray', 'gist_gray_r', 'gist_heat', 'gist_heat_r', 'gist_ncar', 'gist_ncar_r', 'gist_rainbow', 'gist_rainbow_r', 'gist_stern', 'gist_stern_r', 'gist_yarg', 'gist_yarg_r', 'gnuplot', 'gnuplot2', 'gnuplot2_r', 'gnuplot_r', 'gray', 'gray_r', 'hot', 'hot_r', 'hsv', 'hsv_r', 'inferno', 'inferno_r', 'jet', 'jet_r', 'magma', 'magma_r', 'nipy_spectral', 'nipy_spectral_r', 'ocean', 'ocean_r', 'pink', 'pink_r', 'plasma', 'plasma_r', 'prism', 'prism_r', 'rainbow', 'rainbow_r', 'seismic', 'seismic_r', 'spring', 'spring_r', 'summer', 'summer_r', 'tab10', 'tab10_r', 'tab20', 'tab20_r', 'tab20b', 'tab20b_r', 'tab20c', 'tab20c_r', 'terrain', 'terrain_r', 'turbo', 'turbo_r', 'twilight', 'twilight_r', 'twilight_shifted', 'twilight_shifted_r', 'viridis', 'viridis_r', 'winter', 'winter_r'"
   ]
  }
 ],
 "metadata": {
  "kernelspec": {
   "display_name": "Python 3 (ipykernel)",
   "language": "python",
   "name": "python3"
  },
  "language_info": {
   "codemirror_mode": {
    "name": "ipython",
    "version": 3
   },
   "file_extension": ".py",
   "mimetype": "text/x-python",
   "name": "python",
   "nbconvert_exporter": "python",
   "pygments_lexer": "ipython3",
   "version": "3.10.9"
  }
 },
 "nbformat": 4,
 "nbformat_minor": 5
}
